{
 "cells": [
  {
   "cell_type": "code",
   "execution_count": 9,
   "metadata": {},
   "outputs": [],
   "source": [
    "import filecmp\n",
    "from pathlib import Path\n",
    "from os import listdir"
   ]
  },
  {
   "cell_type": "code",
   "execution_count": 10,
   "metadata": {},
   "outputs": [],
   "source": [
    "path1 = Path(r\"D:\\Projects\\PythonProjects\\NIR\\src\\NIR_FC_Classifier\\src\")\n",
    "path2 = Path(r\"D:\\Projects\\PythonProjects\\NIR\\src\\NIR_FC_Regression\\src\")"
   ]
  },
  {
   "cell_type": "code",
   "execution_count": 16,
   "metadata": {},
   "outputs": [
    {
     "name": "stdout",
     "output_type": "stream",
     "text": [
      "True assistive_funcs.py assistive_funcs.py\n",
      "True check_validity_of_values.py check_validity_of_values.py\n",
      "True csv_dataloader.py csv_dataloader.py\n",
      "True dataset_creator.py dataset_creator.py\n",
      "True fastaniso.py fastaniso.py\n",
      "False FC_Classifier.ipynb FC_Regression.ipynb\n",
      "False FC_Classifier.py FC_Regression.py\n",
      "False image_processing.py image_processing.py\n"
     ]
    }
   ],
   "source": [
    "for file1, file2 in zip(listdir(path1), listdir(path2)):\n",
    "    print(filecmp.cmp(path1 / file1, path2 / file2), file1, file2)"
   ]
  }
 ],
 "metadata": {
  "kernelspec": {
   "display_name": "ml_general",
   "language": "python",
   "name": "python3"
  },
  "language_info": {
   "codemirror_mode": {
    "name": "ipython",
    "version": 3
   },
   "file_extension": ".py",
   "mimetype": "text/x-python",
   "name": "python",
   "nbconvert_exporter": "python",
   "pygments_lexer": "ipython3",
   "version": "3.10.4"
  },
  "orig_nbformat": 4
 },
 "nbformat": 4,
 "nbformat_minor": 2
}
