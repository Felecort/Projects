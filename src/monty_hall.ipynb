{
 "cells": [
  {
   "cell_type": "code",
   "execution_count": 113,
   "metadata": {},
   "outputs": [],
   "source": [
    "from random import shuffle, randint"
   ]
  },
  {
   "cell_type": "code",
   "execution_count": 119,
   "metadata": {},
   "outputs": [],
   "source": [
    "def paradox(change=False):\n",
    "    # doors = [\"goat\", \"goat\", \"car\"]\n",
    "    doors = [\"car\"] + [\"goat\" for _ in range(2)]\n",
    "    shuffle(doors)\n",
    "    \n",
    "    car_idx = doors.index(\"car\")\n",
    "    my_choose = randint(0, len(doors) - 1)\n",
    "\n",
    "    if not change:\n",
    "        if car_idx == my_choose:\n",
    "            return 1\n",
    "        else:\n",
    "            return 0\n",
    "    \n",
    "    if change:\n",
    "        if car_idx == my_choose:\n",
    "            return 0\n",
    "        else:\n",
    "            return 1\n",
    "    \n",
    "    # goats_idxs = [i for i in range(3) if doors[i] == \"goat\"]\n",
    "    # shuffle(goats_idxs)\n",
    "    # conducter_choose = goats_idxs[0]\n",
    "\n",
    "    # if my_choose == conducter_choose:\n",
    "    #     conducter_choose = goats_idxs[1]\n",
    "    \n",
    "    # if my_choose == car_idx:\n",
    "    #     return 0\n",
    "    # else: \n",
    "    #     return 1\n"
   ]
  },
  {
   "cell_type": "code",
   "execution_count": 120,
   "metadata": {},
   "outputs": [],
   "source": [
    "no_change = [paradox(False) for _ in range(10000)]\n",
    "change = [paradox(True) for _ in range(10000)]"
   ]
  },
  {
   "cell_type": "code",
   "execution_count": 121,
   "metadata": {},
   "outputs": [
    {
     "name": "stdout",
     "output_type": "stream",
     "text": [
      "No change chance: 0.34 \n",
      "Change chance: 0.67\n"
     ]
    }
   ],
   "source": [
    "print(f\"No change chance: {sum(no_change) / len(no_change):.2f}\",\n",
    "f\"\\nChange chance: {sum(change) / len(change):.2f}\")"
   ]
  }
 ],
 "metadata": {
  "kernelspec": {
   "display_name": "ml_general",
   "language": "python",
   "name": "python3"
  },
  "language_info": {
   "codemirror_mode": {
    "name": "ipython",
    "version": 3
   },
   "file_extension": ".py",
   "mimetype": "text/x-python",
   "name": "python",
   "nbconvert_exporter": "python",
   "pygments_lexer": "ipython3",
   "version": "3.10.4"
  },
  "orig_nbformat": 4
 },
 "nbformat": 4,
 "nbformat_minor": 2
}
