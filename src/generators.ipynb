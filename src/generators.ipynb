{
 "cells": [
  {
   "cell_type": "code",
   "execution_count": 173,
   "metadata": {},
   "outputs": [],
   "source": [
    "from math import sqrt, tan, radians, degrees, cos, pi"
   ]
  },
  {
   "cell_type": "markdown",
   "metadata": {},
   "source": [
    "# KT912"
   ]
  },
  {
   "cell_type": "code",
   "execution_count": 174,
   "metadata": {},
   "outputs": [],
   "source": [
    "f = 9.6e6\n",
    "P = 25\n",
    "KBV = 0.8\n",
    "R_n = 50\n",
    "Q = 100 / 6\n",
    "E_b = 0.7\n",
    "a_1_teta_B = 0.5\n",
    "a_0_teta_B = 0.3183\n",
    "w = 2 * pi * f\n",
    "\n",
    "e_k_dop = 70\n",
    "e_b = 5\n",
    "s = 10\n",
    "s_gr = 1.2\n",
    "r_b = 2\n",
    "L_e = 7e-9\n",
    "f_s = 2.5e6\n"
   ]
  },
  {
   "cell_type": "code",
   "execution_count": 175,
   "metadata": {},
   "outputs": [
    {
     "data": {
      "text/plain": [
       "39.06249999999999"
      ]
     },
     "execution_count": 175,
     "metadata": {},
     "output_type": "execute_result"
    }
   ],
   "source": [
    "P_ok = P / (KBV * 0.8)\n",
    "P_ok"
   ]
  },
  {
   "cell_type": "code",
   "execution_count": 176,
   "metadata": {},
   "outputs": [
    {
     "data": {
      "text/plain": [
       "3.84"
      ]
     },
     "execution_count": 176,
     "metadata": {},
     "output_type": "execute_result"
    }
   ],
   "source": [
    "f / f_s"
   ]
  },
  {
   "cell_type": "code",
   "execution_count": 177,
   "metadata": {},
   "outputs": [],
   "source": [
    "teta_n = 76"
   ]
  },
  {
   "cell_type": "code",
   "execution_count": 178,
   "metadata": {},
   "outputs": [
    {
     "name": "stdout",
     "output_type": "stream",
     "text": [
      "P_m = 68.71390283297758\n",
      "P_m > P_ok = True\n"
     ]
    }
   ],
   "source": [
    "i_k_dop = i_km = (s * (e_b + E_b) / sqrt(1 + (f / f_s) ** 2)) * (tan(radians(teta_n / 2)) ** 2)\n",
    "I_k1 = i_km * 0.5\n",
    "U_k = (e_k_dop - i_km / s_gr) / 2\n",
    "P_m = (I_k1 * U_k) / 2\n",
    "print(f\"{P_m = }\")\n",
    "print(f\"{P_m > P_ok = }\")"
   ]
  },
  {
   "cell_type": "markdown",
   "metadata": {},
   "source": [
    "# Коллектор"
   ]
  },
  {
   "cell_type": "code",
   "execution_count": 179,
   "metadata": {},
   "outputs": [
    {
     "data": {
      "text/plain": [
       "0.3620930321995587"
      ]
     },
     "execution_count": 179,
     "metadata": {},
     "output_type": "execute_result"
    }
   ],
   "source": [
    "R_k1 = U_k / I_k1\n",
    "E_k = (e_k_dop + (i_km / s_gr)) / 2\n",
    "I_k0 = (I_k1 / a_1_teta_B) * a_0_teta_B\n",
    "P_0 = E_k * I_k0\n",
    "KPD = P_ok / P_0\n",
    "KPD\n"
   ]
  },
  {
   "cell_type": "markdown",
   "metadata": {},
   "source": [
    "# База"
   ]
  },
  {
   "cell_type": "code",
   "execution_count": 180,
   "metadata": {},
   "outputs": [],
   "source": [
    "U_b = i_km * sqrt(1 + (f / f_s) ** 2) / (s * (1 - cos(radians(teta_n))))\n",
    "P_vh = 0.5 * U_b ** 2 / (r_b + w * L_e)\n",
    "K_p = P_ok / P_vh\n",
    "E_B = -1 * U_b * cos(radians(teta_n)) + E_b\n",
    "e_bm = U_b + E_B"
   ]
  },
  {
   "cell_type": "markdown",
   "metadata": {},
   "source": [
    "# Выходная цепь"
   ]
  },
  {
   "cell_type": "code",
   "execution_count": 181,
   "metadata": {},
   "outputs": [],
   "source": [
    "R_oe = U_k ** 2 / (2 * P_ok)\n",
    "R_sr = sqrt(R_oe + R_n)\n",
    "X_2 = R_sr ** 2 / Q\n",
    "C_4 = 1 / (w * X_2)\n",
    "X_vh = X_2 * ((R_n ** 2) / (R_n ** 2 + X_2 ** 2))\n",
    "r_vh = (X_2 ** 2) * (R_n / (R_n ** 2 + X_2 ** 2))\n",
    "X_1 = sqrt(r_vh * (R_oe - r_vh))\n",
    "X_L = X_1 + X_vh\n",
    "C_3 = 1 / (w * X_1)\n",
    "L_4 = X_L / w"
   ]
  },
  {
   "cell_type": "code",
   "execution_count": 209,
   "metadata": {},
   "outputs": [
    {
     "name": "stdout",
     "output_type": "stream",
     "text": [
      "P_m = 68.71390283297758\n",
      "P_m > P_ok = True\n",
      "KPD * 100 = 36%\n",
      "\n",
      "C_3 = 8.928676066397253e-09\n",
      "C_4 = 4.415505595415574e-09\n",
      "L_4 = 9.268079435992118e-08\n",
      "E_k = 38.653\n",
      "E_B = -0.410\n",
      "U_b = 4.590\n"
     ]
    }
   ],
   "source": [
    "print(f\"{P_m = }\")\n",
    "print(f\"{P_m > P_ok = }\")\n",
    "print(f\"{KPD * 100 = :.0f}%\")\n",
    "print()\n",
    "print(f\"{C_3 = }\")\n",
    "print(f\"{C_4 = }\")\n",
    "print(f\"{L_4 = }\")\n",
    "print(f\"{E_k = :.3f}\")\n",
    "print(f\"{E_B = :.3f}\")\n",
    "print(f\"{U_b = :.3f}\")\n"
   ]
  },
  {
   "cell_type": "code",
   "execution_count": null,
   "metadata": {},
   "outputs": [],
   "source": []
  }
 ],
 "metadata": {
  "kernelspec": {
   "display_name": "Python 3.10.4 ('ml_general')",
   "language": "python",
   "name": "python3"
  },
  "language_info": {
   "codemirror_mode": {
    "name": "ipython",
    "version": 3
   },
   "file_extension": ".py",
   "mimetype": "text/x-python",
   "name": "python",
   "nbconvert_exporter": "python",
   "pygments_lexer": "ipython3",
   "version": "3.10.4"
  },
  "orig_nbformat": 4,
  "vscode": {
   "interpreter": {
    "hash": "67e5eb89067d95a1a0947a31028cf9465f21e77887e4ef01d6b8c2d726ae553b"
   }
  }
 },
 "nbformat": 4,
 "nbformat_minor": 2
}
