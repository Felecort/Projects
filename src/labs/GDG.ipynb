{
 "cells": [
  {
   "cell_type": "code",
   "execution_count": 1,
   "metadata": {},
   "outputs": [],
   "source": [
    "import pandas as pd\n",
    "import numpy as np\n",
    "from matplotlib import pyplot as plt\n",
    "import seaborn as sns\n",
    "sns.set_theme(rc={\"figure.figsize\":(15, 8)})\n"
   ]
  },
  {
   "cell_type": "code",
   "execution_count": 2,
   "metadata": {},
   "outputs": [],
   "source": [
    "main_path = r\"C:\\Users\\Vadim\\Desktop\\СПбПУ\\7_сем\\СВЧ\\ГДГ\\гдг.xlsx\"\n",
    "save_fig_path = r\"C:\\Users\\Vadim\\Desktop\\СПбПУ\\7_сем\\СВЧ\\ГДГ\"\n",
    "dash_line = (5, (10, 3))"
   ]
  },
  {
   "cell_type": "code",
   "execution_count": 3,
   "metadata": {},
   "outputs": [
    {
     "data": {
      "text/html": [
       "<div>\n",
       "<style scoped>\n",
       "    .dataframe tbody tr th:only-of-type {\n",
       "        vertical-align: middle;\n",
       "    }\n",
       "\n",
       "    .dataframe tbody tr th {\n",
       "        vertical-align: top;\n",
       "    }\n",
       "\n",
       "    .dataframe thead th {\n",
       "        text-align: right;\n",
       "    }\n",
       "</style>\n",
       "<table border=\"1\" class=\"dataframe\">\n",
       "  <thead>\n",
       "    <tr style=\"text-align: right;\">\n",
       "      <th></th>\n",
       "      <th>UD, V</th>\n",
       "      <th>f, MHz</th>\n",
       "      <th>I, mA</th>\n",
       "      <th>P, mW</th>\n",
       "    </tr>\n",
       "  </thead>\n",
       "  <tbody>\n",
       "    <tr>\n",
       "      <th>0</th>\n",
       "      <td>10.0</td>\n",
       "      <td>9262.0</td>\n",
       "      <td>200.0</td>\n",
       "      <td>28.4</td>\n",
       "    </tr>\n",
       "    <tr>\n",
       "      <th>1</th>\n",
       "      <td>9.0</td>\n",
       "      <td>9253.0</td>\n",
       "      <td>202.0</td>\n",
       "      <td>24.8</td>\n",
       "    </tr>\n",
       "    <tr>\n",
       "      <th>2</th>\n",
       "      <td>8.0</td>\n",
       "      <td>9240.0</td>\n",
       "      <td>206.0</td>\n",
       "      <td>21.0</td>\n",
       "    </tr>\n",
       "    <tr>\n",
       "      <th>3</th>\n",
       "      <td>7.0</td>\n",
       "      <td>9227.0</td>\n",
       "      <td>210.0</td>\n",
       "      <td>17.1</td>\n",
       "    </tr>\n",
       "    <tr>\n",
       "      <th>4</th>\n",
       "      <td>6.0</td>\n",
       "      <td>9204.0</td>\n",
       "      <td>216.0</td>\n",
       "      <td>12.0</td>\n",
       "    </tr>\n",
       "  </tbody>\n",
       "</table>\n",
       "</div>"
      ],
      "text/plain": [
       "   UD, V  f, MHz  I, mA  P, mW\n",
       "0   10.0  9262.0  200.0   28.4\n",
       "1    9.0  9253.0  202.0   24.8\n",
       "2    8.0  9240.0  206.0   21.0\n",
       "3    7.0  9227.0  210.0   17.1\n",
       "4    6.0  9204.0  216.0   12.0"
      ]
     },
     "metadata": {},
     "output_type": "display_data"
    },
    {
     "data": {
      "text/plain": [
       "<Figure size 432x288 with 0 Axes>"
      ]
     },
     "metadata": {},
     "output_type": "display_data"
    }
   ],
   "source": [
    "# Read data\n",
    "sheet_name = \"3\"\n",
    "\n",
    "data = pd.read_excel(main_path, sheet_name=sheet_name, usecols=\"B,C,D,E\", header=1, dtype=float)\n",
    "display(data.head())\n",
    "\n",
    "sns.lineplot(x=data[\"f, MHz\"], y=data[\"P, mVt\"]);\n",
    "plt.savefig(f\"{save_fig_path}\\{sheet_name}\")"
   ]
  }
 ],
 "metadata": {
  "kernelspec": {
   "display_name": "Python 3.10.4 ('ml_general')",
   "language": "python",
   "name": "python3"
  },
  "language_info": {
   "codemirror_mode": {
    "name": "ipython",
    "version": 3
   },
   "file_extension": ".py",
   "mimetype": "text/x-python",
   "name": "python",
   "nbconvert_exporter": "python",
   "pygments_lexer": "ipython3",
   "version": "3.10.4"
  },
  "orig_nbformat": 4,
  "vscode": {
   "interpreter": {
    "hash": "67e5eb89067d95a1a0947a31028cf9465f21e77887e4ef01d6b8c2d726ae553b"
   }
  }
 },
 "nbformat": 4,
 "nbformat_minor": 2
}
