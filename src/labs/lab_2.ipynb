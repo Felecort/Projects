{
 "cells": [
  {
   "cell_type": "code",
   "execution_count": null,
   "metadata": {},
   "outputs": [],
   "source": [
    "import pandas as pd\n",
    "import numpy as np\n",
    "from matplotlib import pyplot as plt\n",
    "import seaborn as sns\n",
    "sns.set_theme(rc={\"figure.figsize\":(15, 8)})\n"
   ]
  },
  {
   "cell_type": "code",
   "execution_count": null,
   "metadata": {},
   "outputs": [],
   "source": [
    "main_path = r\"C:\\Users\\Vadim\\Desktop\\СПбПУ\\7_сем\\СВЧ\\УТР\\UtR.xlsx\"\n",
    "save_fig_path = r\"C:\\Users\\Vadim\\Desktop\\СПбПУ\\7_сем\\СВЧ\\УТР\"\n",
    "dash_line = (5, (10, 3))"
   ]
  },
  {
   "cell_type": "code",
   "execution_count": null,
   "metadata": {},
   "outputs": [],
   "source": [
    "# Read data\n",
    "sheet_name = \"-60\"\n",
    "\n",
    "data = pd.read_excel(main_path, sheet_name=sheet_name, usecols=\"B,C\", header=1, dtype=float)\n",
    "display(data.head())\n",
    "\n",
    "sns.lineplot(x=data[\"f, MHz\"], y=data[\"P, mVt\"]);\n",
    "plt.savefig(f\"{save_fig_path}\\{sheet_name}\")"
   ]
  },
  {
   "cell_type": "code",
   "execution_count": null,
   "metadata": {},
   "outputs": [],
   "source": [
    "# Read data\n",
    "sheet_name = \"-50\"\n",
    "\n",
    "data = pd.read_excel(main_path, sheet_name=sheet_name, usecols=\"B,C\", header=1, dtype=float)\n",
    "display(data.head())\n",
    "\n",
    "sns.lineplot(x=data[\"f, MHz\"], y=data[\"P, mVt\"]);\n",
    "plt.savefig(f\"{save_fig_path}\\{sheet_name}\")"
   ]
  },
  {
   "cell_type": "code",
   "execution_count": null,
   "metadata": {},
   "outputs": [],
   "source": [
    "# Read data\n",
    "sheet_name = \"-40\"\n",
    "\n",
    "data = pd.read_excel(main_path, sheet_name=sheet_name, usecols=\"B,C\", header=1, dtype=float)\n",
    "display(data.head())\n",
    "\n",
    "sns.lineplot(x=data[\"f, MHz\"], y=data[\"P, mVt\"]);\n",
    "plt.savefig(f\"{save_fig_path}\\{sheet_name}\")"
   ]
  },
  {
   "cell_type": "code",
   "execution_count": null,
   "metadata": {},
   "outputs": [],
   "source": [
    "# Read data\n",
    "sheet_name = \"-30\"\n",
    "\n",
    "data = pd.read_excel(main_path, sheet_name=sheet_name, usecols=\"B,C\", header=1, dtype=float)\n",
    "display(data.head())\n",
    "\n",
    "sns.lineplot(x=data[\"f, MHz\"], y=data[\"P, mVt\"]);\n",
    "plt.savefig(f\"{save_fig_path}\\{sheet_name}\")"
   ]
  },
  {
   "cell_type": "code",
   "execution_count": null,
   "metadata": {},
   "outputs": [],
   "source": [
    "# Read data\n",
    "sheet_name = \"f=2170\"\n",
    "\n",
    "data = pd.read_excel(main_path, sheet_name=sheet_name, usecols=\"B,C\", header=1, dtype=float)\n",
    "display(data.head())\n",
    "\n",
    "sns.lineplot(x=data[\"-dB\"], y=data[\"P, mVt\"]);\n",
    "plt.savefig(f\"{save_fig_path}\\{sheet_name}\")"
   ]
  },
  {
   "cell_type": "code",
   "execution_count": null,
   "metadata": {},
   "outputs": [],
   "source": [
    "# Read data\n",
    "sheet_name = \"infer\"\n",
    "\n",
    "data = pd.read_excel(main_path, sheet_name=sheet_name, usecols=\"B,C,D,E\", header=1, dtype=float)\n",
    "display(data.head())\n",
    "\n",
    "fig, ax = plt.subplots(figsize=(12, 6))\n",
    "ax.plot(data[\"-dB\"], data[\"P, mVt\"], label=\"U=8, V\", linestyle=\"-\")\n",
    "ax.plot(data[\"-dB\"], data[\"P, mVt.1\"], label=\"U=7, V\", linestyle=\"--\")\n",
    "ax.plot(data[\"-dB\"], data[\"P, mVt.2\"], label=\"U=6, V\", linestyle=\":\")\n",
    "\n",
    "ax.legend([\"U=8, V\", \"U=7, V\", \"U=6, V\"], prop={\"size\":15})\n",
    "# ax.set_title(\"R1 and R2\", fontsize=15)\n",
    "ax.set_xlabel(\"-dB\", fontsize=15)\n",
    "ax.set_ylabel(\"P, mVt\", fontsize=15)\n",
    "plt.savefig(f\"{save_fig_path}\\{sheet_name}\");\n",
    "plt.show()\n"
   ]
  },
  {
   "cell_type": "code",
   "execution_count": null,
   "metadata": {},
   "outputs": [],
   "source": []
  }
 ],
 "metadata": {
  "kernelspec": {
   "display_name": "Python 3.10.4 ('ml_general')",
   "language": "python",
   "name": "python3"
  },
  "language_info": {
   "codemirror_mode": {
    "name": "ipython",
    "version": 3
   },
   "file_extension": ".py",
   "mimetype": "text/x-python",
   "name": "python",
   "nbconvert_exporter": "python",
   "pygments_lexer": "ipython3",
   "version": "3.10.4"
  },
  "orig_nbformat": 4,
  "vscode": {
   "interpreter": {
    "hash": "67e5eb89067d95a1a0947a31028cf9465f21e77887e4ef01d6b8c2d726ae553b"
   }
  }
 },
 "nbformat": 4,
 "nbformat_minor": 2
}
