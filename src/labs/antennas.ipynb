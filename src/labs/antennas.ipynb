{
 "cells": [
  {
   "cell_type": "code",
   "execution_count": 22,
   "metadata": {},
   "outputs": [],
   "source": [
    "import pandas as pd\n",
    "from pathlib import Path"
   ]
  },
  {
   "cell_type": "code",
   "execution_count": 23,
   "metadata": {},
   "outputs": [],
   "source": [
    "main_path = Path(r\"D:\\Projects\\PythonProjects\\Projects\\src\\labs\\antennas_data\")\n",
    "first_11_name = \"first_11.csv\"\n",
    "second_12_name = \"second_12.csv\"\n",
    "loop_name = \"loop.csv\"\n",
    "broad_name = \"broad.csv\""
   ]
  },
  {
   "cell_type": "code",
   "execution_count": 32,
   "metadata": {},
   "outputs": [],
   "source": [
    "def get_data(name):\n",
    "    df = pd.read_csv(main_path / name, header=2, names=[\"F\", \"R\", \"jX\"], ).astype(float)\n",
    "    df[\"R+JX\"] = df[\"R\"] + 1j * df[\"jX\"]\n",
    "    return df"
   ]
  },
  {
   "cell_type": "code",
   "execution_count": 33,
   "metadata": {},
   "outputs": [
    {
     "data": {
      "text/html": [
       "<div>\n",
       "<style scoped>\n",
       "    .dataframe tbody tr th:only-of-type {\n",
       "        vertical-align: middle;\n",
       "    }\n",
       "\n",
       "    .dataframe tbody tr th {\n",
       "        vertical-align: top;\n",
       "    }\n",
       "\n",
       "    .dataframe thead th {\n",
       "        text-align: right;\n",
       "    }\n",
       "</style>\n",
       "<table border=\"1\" class=\"dataframe\">\n",
       "  <thead>\n",
       "    <tr style=\"text-align: right;\">\n",
       "      <th></th>\n",
       "      <th>F</th>\n",
       "      <th>R</th>\n",
       "      <th>jX</th>\n",
       "      <th>R+JX</th>\n",
       "    </tr>\n",
       "  </thead>\n",
       "  <tbody>\n",
       "    <tr>\n",
       "      <th>0</th>\n",
       "      <td>100000000.0</td>\n",
       "      <td>4.004687</td>\n",
       "      <td>-206.639533</td>\n",
       "      <td>4.004687-206.639533j</td>\n",
       "    </tr>\n",
       "    <tr>\n",
       "      <th>1</th>\n",
       "      <td>101500000.0</td>\n",
       "      <td>3.935390</td>\n",
       "      <td>-203.389430</td>\n",
       "      <td>3.93539-0203.389430j</td>\n",
       "    </tr>\n",
       "    <tr>\n",
       "      <th>2</th>\n",
       "      <td>103000000.0</td>\n",
       "      <td>3.712258</td>\n",
       "      <td>-200.369760</td>\n",
       "      <td>3.712258-200.369760j</td>\n",
       "    </tr>\n",
       "    <tr>\n",
       "      <th>3</th>\n",
       "      <td>104500000.0</td>\n",
       "      <td>3.599455</td>\n",
       "      <td>-197.197866</td>\n",
       "      <td>3.599455-197.197866j</td>\n",
       "    </tr>\n",
       "    <tr>\n",
       "      <th>4</th>\n",
       "      <td>106000000.0</td>\n",
       "      <td>3.519938</td>\n",
       "      <td>-194.350318</td>\n",
       "      <td>3.519938-194.350318j</td>\n",
       "    </tr>\n",
       "  </tbody>\n",
       "</table>\n",
       "</div>"
      ],
      "text/plain": [
       "             F         R          jX                  R+JX\n",
       "0  100000000.0  4.004687 -206.639533  4.004687-206.639533j\n",
       "1  101500000.0  3.935390 -203.389430  3.93539-0203.389430j\n",
       "2  103000000.0  3.712258 -200.369760  3.712258-200.369760j\n",
       "3  104500000.0  3.599455 -197.197866  3.599455-197.197866j\n",
       "4  106000000.0  3.519938 -194.350318  3.519938-194.350318j"
      ]
     },
     "metadata": {},
     "output_type": "display_data"
    },
    {
     "data": {
      "text/html": [
       "<div>\n",
       "<style scoped>\n",
       "    .dataframe tbody tr th:only-of-type {\n",
       "        vertical-align: middle;\n",
       "    }\n",
       "\n",
       "    .dataframe tbody tr th {\n",
       "        vertical-align: top;\n",
       "    }\n",
       "\n",
       "    .dataframe thead th {\n",
       "        text-align: right;\n",
       "    }\n",
       "</style>\n",
       "<table border=\"1\" class=\"dataframe\">\n",
       "  <thead>\n",
       "    <tr style=\"text-align: right;\">\n",
       "      <th></th>\n",
       "      <th>F</th>\n",
       "      <th>R</th>\n",
       "      <th>jX</th>\n",
       "      <th>R+JX</th>\n",
       "    </tr>\n",
       "  </thead>\n",
       "  <tbody>\n",
       "    <tr>\n",
       "      <th>996</th>\n",
       "      <td>1.594000e+09</td>\n",
       "      <td>41.973946</td>\n",
       "      <td>144.261631</td>\n",
       "      <td>41.973946+144.261631j</td>\n",
       "    </tr>\n",
       "    <tr>\n",
       "      <th>997</th>\n",
       "      <td>1.595500e+09</td>\n",
       "      <td>42.594981</td>\n",
       "      <td>145.523232</td>\n",
       "      <td>42.594981+145.523232j</td>\n",
       "    </tr>\n",
       "    <tr>\n",
       "      <th>998</th>\n",
       "      <td>1.597000e+09</td>\n",
       "      <td>43.120922</td>\n",
       "      <td>146.668254</td>\n",
       "      <td>43.120922+146.668254j</td>\n",
       "    </tr>\n",
       "    <tr>\n",
       "      <th>999</th>\n",
       "      <td>1.598500e+09</td>\n",
       "      <td>43.781742</td>\n",
       "      <td>147.995340</td>\n",
       "      <td>43.781742+147.995340j</td>\n",
       "    </tr>\n",
       "    <tr>\n",
       "      <th>1000</th>\n",
       "      <td>1.600000e+09</td>\n",
       "      <td>44.365011</td>\n",
       "      <td>149.286471</td>\n",
       "      <td>44.365011+149.286471j</td>\n",
       "    </tr>\n",
       "  </tbody>\n",
       "</table>\n",
       "</div>"
      ],
      "text/plain": [
       "                 F          R          jX                   R+JX\n",
       "996   1.594000e+09  41.973946  144.261631  41.973946+144.261631j\n",
       "997   1.595500e+09  42.594981  145.523232  42.594981+145.523232j\n",
       "998   1.597000e+09  43.120922  146.668254  43.120922+146.668254j\n",
       "999   1.598500e+09  43.781742  147.995340  43.781742+147.995340j\n",
       "1000  1.600000e+09  44.365011  149.286471  44.365011+149.286471j"
      ]
     },
     "metadata": {},
     "output_type": "display_data"
    }
   ],
   "source": [
    "first_11 = get_data(first_11_name)\n",
    "display(first_11.head())\n",
    "display(first_11.tail())"
   ]
  },
  {
   "cell_type": "code",
   "execution_count": 34,
   "metadata": {},
   "outputs": [
    {
     "data": {
      "text/plain": [
       "F          float64\n",
       "R          float64\n",
       "jX         float64\n",
       "R+JX    complex128\n",
       "dtype: object"
      ]
     },
     "execution_count": 34,
     "metadata": {},
     "output_type": "execute_result"
    }
   ],
   "source": [
    "first_11.dtypes"
   ]
  },
  {
   "cell_type": "code",
   "execution_count": null,
   "metadata": {},
   "outputs": [],
   "source": []
  }
 ],
 "metadata": {
  "kernelspec": {
   "display_name": "ml_general",
   "language": "python",
   "name": "python3"
  },
  "language_info": {
   "codemirror_mode": {
    "name": "ipython",
    "version": 3
   },
   "file_extension": ".py",
   "mimetype": "text/x-python",
   "name": "python",
   "nbconvert_exporter": "python",
   "pygments_lexer": "ipython3",
   "version": "3.10.4"
  },
  "orig_nbformat": 4
 },
 "nbformat": 4,
 "nbformat_minor": 2
}
