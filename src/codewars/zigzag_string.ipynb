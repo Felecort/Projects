{
 "cells": [
  {
   "cell_type": "code",
   "execution_count": null,
   "metadata": {},
   "outputs": [],
   "source": [
    "def convert(string: str, num_rows: int) -> str:\n",
    "    if num_rows == 1:\n",
    "        return string\n",
    "    total_step = num_rows * 2 - 2\n",
    "    new_s_arr = []\n",
    "    \n",
    "    for row in range(num_rows):\n",
    "        index = row\n",
    "        if index >= len(string): break\n",
    "        step_1 = total_step - (row * 2)\n",
    "        step_2 = total_step - step_1\n",
    "        while(1):\n",
    "            # if index >= len(string):\n",
    "            #     break\n",
    "            \n",
    "            if step_1 != 0:\n",
    "                new_s_arr.append(string[index])\n",
    "                index += step_1\n",
    "            if index >= len(string): break\n",
    "            \n",
    "            if step_2 != 0:\n",
    "                new_s_arr.append(string[index])\n",
    "                index += step_2\n",
    "            if index >= len(string): break\n",
    "    return \"\".join(new_s_arr)\n",
    "        \n",
    "        \n",
    "    \n",
    "            "
   ]
  },
  {
   "cell_type": "code",
   "execution_count": null,
   "metadata": {},
   "outputs": [
    {
     "data": {
      "text/plain": [
       "'A'"
      ]
     },
     "metadata": {},
     "output_type": "display_data"
    }
   ],
   "source": [
    "convert(\"A\", 4)"
   ]
  }
 ],
 "metadata": {
  "language_info": {
   "name": "python"
  },
  "orig_nbformat": 4
 },
 "nbformat": 4,
 "nbformat_minor": 2
}
