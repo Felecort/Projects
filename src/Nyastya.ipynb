{
 "cells": [
  {
   "cell_type": "code",
   "execution_count": 1,
   "metadata": {},
   "outputs": [],
   "source": [
    "import pandas as pd\n",
    "import os"
   ]
  },
  {
   "cell_type": "code",
   "execution_count": 3,
   "metadata": {},
   "outputs": [
    {
     "data": {
      "text/plain": [
       "['sechenie_4.txt', 'sechenie_5.txt']"
      ]
     },
     "execution_count": 3,
     "metadata": {},
     "output_type": "execute_result"
    }
   ],
   "source": [
    "path = r\"D:\\Projects\\PythonProjects\\Projects\\data\\nyastya\"\n",
    "files = os.listdir(path)\n",
    "files.pop(0)\n",
    "files"
   ]
  },
  {
   "cell_type": "code",
   "execution_count": 24,
   "metadata": {},
   "outputs": [],
   "source": [
    "\n",
    "# ind_file = 0\n",
    "\n",
    "for file_ in files:\n",
    "    with open(path + \"\\\\\" + file_) as f:\n",
    "        x = []\n",
    "        y = []\n",
    "        for line in f:\n",
    "            line_arr = line.split()\n",
    "            if len(line_arr) < 2: continue\n",
    "            if line_arr[0] == 'x':\n",
    "                x.append(float(line_arr[2]))\n",
    "            if line_arr[0] == 'y':\n",
    "                y.append(float(line_arr[2]))\n",
    "                \n",
    "    df = pd.DataFrame({\"x\": x, \"y\": y})\n",
    "    df.to_excel(f\"{path}\\\\{file_}.xlsx\")"
   ]
  },
  {
   "cell_type": "code",
   "execution_count": null,
   "metadata": {},
   "outputs": [],
   "source": []
  }
 ],
 "metadata": {
  "kernelspec": {
   "display_name": "Python 3.10.4 ('ml_general')",
   "language": "python",
   "name": "python3"
  },
  "language_info": {
   "codemirror_mode": {
    "name": "ipython",
    "version": 3
   },
   "file_extension": ".py",
   "mimetype": "text/x-python",
   "name": "python",
   "nbconvert_exporter": "python",
   "pygments_lexer": "ipython3",
   "version": "3.10.4"
  },
  "orig_nbformat": 4,
  "vscode": {
   "interpreter": {
    "hash": "67e5eb89067d95a1a0947a31028cf9465f21e77887e4ef01d6b8c2d726ae553b"
   }
  }
 },
 "nbformat": 4,
 "nbformat_minor": 2
}
